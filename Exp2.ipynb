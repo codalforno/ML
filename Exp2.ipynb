{
 "metadata": {
  "language_info": {
   "codemirror_mode": {
    "name": "ipython",
    "version": 3
   },
   "file_extension": ".py",
   "mimetype": "text/x-python",
   "name": "python",
   "nbconvert_exporter": "python",
   "pygments_lexer": "ipython3",
   "version": "3.8.3"
  },
  "orig_nbformat": 2,
  "kernelspec": {
   "name": "python3",
   "display_name": "Python 3.8.3 64-bit ('base': conda)",
   "metadata": {
    "interpreter": {
     "hash": "13b8e47c0e02e0bf5e2f7ffbf78ecc7e2fa1c82a5411be740ef384d5dc55a420"
    }
   }
  }
 },
 "nbformat": 4,
 "nbformat_minor": 2,
 "cells": [
  {
   "cell_type": "code",
   "execution_count": 2,
   "metadata": {},
   "outputs": [],
   "source": [
    "import matplotlib.pyplot as plt\n",
    "import pandas as pd\n",
    "from sklearn import datasets\n",
    "from sklearn import svm"
   ]
  },
  {
   "cell_type": "code",
   "execution_count": 42,
   "metadata": {},
   "outputs": [],
   "source": [
    "def coding(col, codeDict):\n",
    "  colCoded = pd.Series(col, copy=True)\n",
    "  for key, value in codeDict.items():\n",
    "    colCoded.replace(key, value, inplace=True)\n",
    "  return colCoded"
   ]
  },
  {
   "cell_type": "code",
   "execution_count": 43,
   "metadata": {},
   "outputs": [
    {
     "output_type": "stream",
     "name": "stdout",
     "text": [
      "   Unnamed: 0 paralysis yellow_tong member_loss chest_pain trembling_finger  \\\n0           0         t           t           f          f                f   \n1           1         f           t           f          f                f   \n2           2         f           t           f          f                t   \n3           3         f           t           t          f                t   \n4           4         f           f           t          t                f   \n\n  severe_anger history_bacteria           diagnostic has_disease  \n0            f                f  bacterial_infection           t  \n1            f                f  bacterial_infection           t  \n2            f                t         bite_deficit           t  \n3            f                f         bite_deficit           t  \n4            f                f      viral_infection           t  \n\n Index(['Unnamed: 0', 'paralysis', 'yellow_tong', 'member_loss', 'chest_pain',\n       'trembling_finger', 'severe_anger', 'history_bacteria', 'diagnostic',\n       'has_disease'],\n      dtype='object')\n\n (19, 10)\n"
     ]
    }
   ],
   "source": [
    "df = pd.read_csv('zombie-health-symptoms-diagnostic.csv')\n",
    "\n",
    "print(df.head())\n",
    "\n",
    "print('\\n', df.columns)\n",
    "\n",
    "print('\\n', df.shape)"
   ]
  },
  {
   "cell_type": "code",
   "execution_count": 44,
   "metadata": {},
   "outputs": [
    {
     "output_type": "stream",
     "name": "stdout",
     "text": [
      "0     1\n1     0\n2     0\n3     0\n4     0\n5     0\n6     0\n7     0\n8     0\n9     0\n10    0\n11    1\n12    0\n13    0\n14    0\n15    0\n16    0\n17    0\n18    0\nName: paralysis, dtype: int64\n"
     ]
    }
   ],
   "source": [
    "df['paralysis'] = coding(df['paralysis'], {'f':0,'t':1})\n",
    "\n",
    "print(df['paralysis'])"
   ]
  },
  {
   "cell_type": "code",
   "execution_count": 45,
   "metadata": {},
   "outputs": [
    {
     "output_type": "stream",
     "name": "stdout",
     "text": [
      "   Unnamed: 0  paralysis  yellow_tong  member_loss  chest_pain  \\\n0           0          1            1            0           0   \n1           1          0            1            0           0   \n2           2          0            1            0           0   \n3           3          0            1            1           0   \n4           4          0            0            1           1   \n\n   trembling_finger  severe_anger  history_bacteria           diagnostic  \\\n0                 0             0                 0  bacterial_infection   \n1                 0             0                 0  bacterial_infection   \n2                 1             0                 1         bite_deficit   \n3                 1             0                 0         bite_deficit   \n4                 0             0                 0      viral_infection   \n\n   has_disease  \n0            1  \n1            1  \n2            1  \n3            1  \n4            1  \n"
     ]
    }
   ],
   "source": [
    "for col in df.columns:\n",
    "    df[col] = coding(df[col], {'f':0,'t':1})\n",
    "\n",
    "print(df.head())"
   ]
  },
  {
   "cell_type": "code",
   "execution_count": 46,
   "metadata": {},
   "outputs": [
    {
     "output_type": "stream",
     "name": "stdout",
     "text": [
      "   Unnamed: 0  paralysis  yellow_tong  member_loss  chest_pain  \\\n0           0          1            1            0           0   \n1           1          0            1            0           0   \n2           2          0            1            0           0   \n3           3          0            1            1           0   \n4           4          0            0            1           1   \n\n   trembling_finger  severe_anger  history_bacteria           diagnostic  \\\n0                 0             0                 0  bacterial_infection   \n1                 0             0                 0  bacterial_infection   \n2                 1             0                 1         bite_deficit   \n3                 1             0                 0         bite_deficit   \n4                 0             0                 0      viral_infection   \n\n   has_disease  \n0            1  \n1            1  \n2            1  \n3            1  \n4            1  \n"
     ]
    }
   ],
   "source": [
    "print(df.head())"
   ]
  },
  {
   "cell_type": "code",
   "execution_count": 47,
   "metadata": {},
   "outputs": [
    {
     "output_type": "stream",
     "name": "stdout",
     "text": [
      "Index(['bite_deficit', 'bacterial_infection', 'viral_infection', 'fights',\n       'nothing'],\n      dtype='object')\n{'bite_deficit': 1, 'bacterial_infection': 2, 'viral_infection': 3, 'fights': 4, 'nothing': 5}\n"
     ]
    }
   ],
   "source": [
    "pd.value_counts(df['diagnostic'])\n",
    "print((pd.value_counts(df['diagnostic']).index))\n",
    "\n",
    "dic = {}\n",
    "i = 1\n",
    "for val in pd.value_counts(df['diagnostic']).index:\n",
    "    dic.update({val:i})\n",
    "    i = i+1\n",
    "print(dic)"
   ]
  },
  {
   "cell_type": "code",
   "execution_count": 48,
   "metadata": {},
   "outputs": [
    {
     "output_type": "stream",
     "name": "stdout",
     "text": [
      "   Unnamed: 0  paralysis  yellow_tong  member_loss  chest_pain  \\\n0           0          1            1            0           0   \n1           1          0            1            0           0   \n2           2          0            1            0           0   \n3           3          0            1            1           0   \n4           4          0            0            1           1   \n\n   trembling_finger  severe_anger  history_bacteria  diagnostic  has_disease  \n0                 0             0                 0           2            1  \n1                 0             0                 0           2            1  \n2                 1             0                 1           1            1  \n3                 1             0                 0           1            1  \n4                 0             0                 0           3            1  \n"
     ]
    }
   ],
   "source": [
    " df['diagnostic'] = coding(df['diagnostic'], dic)\n",
    "\n",
    " print(df.head())"
   ]
  },
  {
   "cell_type": "code",
   "execution_count": 49,
   "metadata": {},
   "outputs": [
    {
     "output_type": "stream",
     "name": "stdout",
     "text": [
      "<class 'numpy.ndarray'>\n<class 'numpy.ndarray'>\n"
     ]
    }
   ],
   "source": [
    "sintomas = df[['paralysis', 'yellow_tong', 'member_loss', 'chest_pain',\n",
    "       'trembling_finger', 'severe_anger', 'history_bacteria']].values\n",
    "\n",
    "print(type(sintomas))\n",
    "\n",
    "diagnosticos = df['diagnostic'].values\n",
    "\n",
    "print(type(diagnosticos))"
   ]
  },
  {
   "cell_type": "code",
   "execution_count": 53,
   "metadata": {},
   "outputs": [
    {
     "output_type": "stream",
     "name": "stdout",
     "text": [
      "\n",
      " [1 1 3 2 1]\n",
      "\n",
      " 14    1\n",
      "15    1\n",
      "16    4\n",
      "17    2\n",
      "18    1\n",
      "Name: diagnostic, dtype: int64\n",
      "\n",
      "Taxa de acertos =  80.0 %\n"
     ]
    }
   ],
   "source": [
    "clf = svm.SVC(gamma=0.001, C=100.)\n",
    "clf.fit(sintomas[:-5], diagnosticos[:-5])\n",
    "predicao = clf.predict(sintomas[-5:])\n",
    "print('\\n', predicao)\n",
    "esperado = df['diagnostic'][-5:]\n",
    "print('\\n', df['diagnostic'][-5:])\n",
    "print('\\nTaxa de acertos = ',(predicao == esperado).sum()/5*100, '%')"
   ]
  },
  {
   "cell_type": "code",
   "execution_count": 54,
   "metadata": {},
   "outputs": [
    {
     "output_type": "stream",
     "name": "stdout",
     "text": [
      "0.8\n"
     ]
    }
   ],
   "source": [
    "from sklearn.metrics import accuracy_score\n",
    "print(accuracy_score(esperado, predicao))"
   ]
  },
  {
   "cell_type": "code",
   "execution_count": null,
   "metadata": {},
   "outputs": [],
   "source": []
  }
 ]
}